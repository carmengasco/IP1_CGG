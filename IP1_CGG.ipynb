{
 "cells": [
  {
   "cell_type": "markdown",
   "id": "004f6d7e",
   "metadata": {},
   "source": [
    "Individual Project 1\n",
    "Author: Carmen Gasco Galvez\n",
    "Version: 1.20.3\n",
    "Spring semester"
   ]
  },
  {
   "cell_type": "markdown",
   "id": "23efae6c",
   "metadata": {},
   "source": [
    "a)Create a 2-by-2 NumPy array with elements 10,20,30,40 in it. Then use broadcasting to perform each of these operations:\n",
    "    i.\tSquare every element of the array\n",
    "    ii.\tAdd 100 to every element of the array\n",
    "    iii.\tMultiply every element of the array by 5.\n",
    "    iv.\tCalculate the square root of each element in the array.\n"
   ]
  },
  {
   "cell_type": "code",
   "execution_count": 1,
   "id": "973befa2",
   "metadata": {},
   "outputs": [
    {
     "name": "stdout",
     "output_type": "stream",
     "text": [
      "Requirement already satisfied: numpy in d:\\anaconda\\nuevacarpeta\\lib\\site-packages (1.20.3)\n"
     ]
    }
   ],
   "source": [
    "!pip install numpy \n",
    "import numpy as np"
   ]
  },
  {
   "cell_type": "code",
   "execution_count": 7,
   "id": "d8523b60",
   "metadata": {},
   "outputs": [
    {
     "name": "stdout",
     "output_type": "stream",
     "text": [
      "[10 20 30 40]\n"
     ]
    }
   ],
   "source": [
    "arr=np.array(range(10,50,10))\n",
    "print(arr)"
   ]
  },
  {
   "cell_type": "code",
   "execution_count": 105,
   "id": "819cf3f0",
   "metadata": {},
   "outputs": [
    {
     "name": "stdout",
     "output_type": "stream",
     "text": [
      "[ 100  400  900 1600]\n",
      "[110 120 130 140]\n",
      "[ 50 100 150 200]\n",
      "[3.16227766 4.47213595 5.47722558 6.32455532]\n"
     ]
    }
   ],
   "source": [
    "arri=np.square(arr) #i)\n",
    "print(arri)\n",
    "\n",
    "arrii=arr+100 #ii)\n",
    "print(arrii)\n",
    "\n",
    "arriii=arr*5 #iii)\n",
    "print(arriii)\n",
    "\n",
    "arriv=np.sqrt(arr) #iv)\n",
    "print(arriv)"
   ]
  },
  {
   "cell_type": "markdown",
   "id": "972c3e79",
   "metadata": {},
   "source": [
    "b.\tCreate a 3-by-3 array containing integers from 3 to 27 in multiples of 3.  Create a second 3-by-3 array with 9 elements evenly spaced between 10 and 20.  Multiply these arrays together and display the output."
   ]
  },
  {
   "cell_type": "code",
   "execution_count": 99,
   "id": "aae5ca57",
   "metadata": {},
   "outputs": [
    {
     "name": "stdout",
     "output_type": "stream",
     "text": [
      "[[ 3  6  9]\n",
      " [12 15 18]\n",
      " [21 24 27]]\n",
      "[[10.   11.25 12.5 ]\n",
      " [13.75 15.   16.25]\n",
      " [17.5  18.75 20.  ]]\n",
      "[[ 30.   67.5 112.5]\n",
      " [165.  225.  292.5]\n",
      " [367.5 450.  540. ]]\n"
     ]
    }
   ],
   "source": [
    "arr2=np.arange(3,28,3) #first \n",
    "arr2.resize((3,3)) #resize\n",
    "print(arr2)\n",
    "\n",
    "arr3=np.linspace(10,20,9) #second\n",
    "arr3.resize((3,3)) #resize\n",
    "print(arr3)\n",
    "\n",
    "arr4=arr2*arr3 #multiplication\n",
    "print(arr4)"
   ]
  },
  {
   "cell_type": "markdown",
   "id": "d79edfbf",
   "metadata": {},
   "source": [
    "c.\tAttached this to assignment are five .npy files that contain five values each. Read these files in and stack them into a unified dataset.  This would be a 5-by-5 NumPy array.  Then calculate the mean of each column of data. Let Python do all of the heavy lifting! Don’t forget, you need to put the .npy files in the same directory as your script."
   ]
  },
  {
   "cell_type": "code",
   "execution_count": 100,
   "id": "9f1d379d",
   "metadata": {
    "scrolled": true
   },
   "outputs": [
    {
     "name": "stdout",
     "output_type": "stream",
     "text": [
      "[72.  27.8 45.6 12.  47.8]\n"
     ]
    }
   ],
   "source": [
    "n1=np.load('process1.npy')\n",
    "n2=np.load('process2.npy')\n",
    "n3=np.load('process3.npy')\n",
    "n4=np.load('process4.npy')\n",
    "n5=np.load('process5.npy')\n",
    "n=np.concatenate((n1,n2,n3,n4,n5))\n",
    "np.save('all.npy', n)#saved in all.npy\n",
    "mean=np.mean(n, axis=0) #Mean of each column\n",
    "print(mean)"
   ]
  }
 ],
 "metadata": {
  "kernelspec": {
   "display_name": "Python 3 (ipykernel)",
   "language": "python",
   "name": "python3"
  },
  "language_info": {
   "codemirror_mode": {
    "name": "ipython",
    "version": 3
   },
   "file_extension": ".py",
   "mimetype": "text/x-python",
   "name": "python",
   "nbconvert_exporter": "python",
   "pygments_lexer": "ipython3",
   "version": "3.9.7"
  }
 },
 "nbformat": 4,
 "nbformat_minor": 5
}
